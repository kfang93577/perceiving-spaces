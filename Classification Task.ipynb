{
 "cells": [
  {
   "cell_type": "code",
   "execution_count": 11,
   "id": "8c279257",
   "metadata": {},
   "outputs": [],
   "source": [
    "import traja\n",
    "import numpy as np\n",
    "import matplotlib.pyplot as plt"
   ]
  },
  {
   "cell_type": "code",
   "execution_count": 15,
   "id": "f2541a86",
   "metadata": {},
   "outputs": [],
   "source": [
    "num_traj = 3\n",
    "short_trjs = {ind: traja.generate(n=1000, random=True,step_length= 2, seed=ind) for ind in range(num_traj)}\n",
    "for trj in short_trjs:\n",
    "    derivs = traja.get_derivatives(short_trjs[trj])\n",
    "    ang = traja.calc_angle(short_trjs[trj])\n",
    "    short_trjs[trj] = short_trjs[trj].join(derivs).join(ang.rename('angles'))\n",
    "    short_trjs[trj].drop(['displacement_time', 'speed_times', 'acceleration_times'], inplace=True, axis=1)\n",
    "    short_trjs[trj].to_csv('short_step.csv')"
   ]
  },
  {
   "cell_type": "code",
   "execution_count": 16,
   "id": "ec0c6e30",
   "metadata": {},
   "outputs": [],
   "source": [
    "num_traj = 3\n",
    "long_trjs = {ind: traja.generate(n=1000, random=True,step_length= 5, seed=ind) for ind in range(num_traj)}\n",
    "for trj in long_trjs:\n",
    "    derivs = traja.get_derivatives(long_trjs[trj])\n",
    "    ang = traja.calc_angle(long_trjs[trj])\n",
    "    long_trjs[trj] = long_trjs[trj].join(derivs).join(ang.rename('angles'))\n",
    "    long_trjs[trj].drop(['displacement_time', 'speed_times', 'acceleration_times'], inplace=True, axis=1)\n",
    "    long_trjs[trj].to_csv('long_step.csv')"
   ]
  },
  {
   "cell_type": "code",
   "execution_count": null,
   "id": "7af6fb76",
   "metadata": {},
   "outputs": [],
   "source": []
  },
  {
   "cell_type": "code",
   "execution_count": null,
   "id": "77488ecd",
   "metadata": {},
   "outputs": [],
   "source": []
  }
 ],
 "metadata": {
  "kernelspec": {
   "display_name": "Python 3",
   "language": "python",
   "name": "python3"
  },
  "language_info": {
   "codemirror_mode": {
    "name": "ipython",
    "version": 3
   },
   "file_extension": ".py",
   "mimetype": "text/x-python",
   "name": "python",
   "nbconvert_exporter": "python",
   "pygments_lexer": "ipython3",
   "version": "3.6.13"
  }
 },
 "nbformat": 4,
 "nbformat_minor": 5
}
