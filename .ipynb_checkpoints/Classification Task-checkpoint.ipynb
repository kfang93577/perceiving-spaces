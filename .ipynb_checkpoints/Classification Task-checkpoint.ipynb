{
 "cells": [
  {
   "cell_type": "code",
   "execution_count": 49,
   "id": "8fa74956",
   "metadata": {},
   "outputs": [],
   "source": [
    "import traja\n",
    "from traja import TrajaCollection\n",
    "import numpy as np\n",
    "import matplotlib.pyplot as plt\n",
    "from sklearn.model_selection import ShuffleSplit"
   ]
  },
  {
   "cell_type": "code",
   "execution_count": 50,
   "id": "e9c81ef4",
   "metadata": {},
   "outputs": [
    {
     "name": "stdout",
     "output_type": "stream",
     "text": [
      "(1000, 7, 500)\n"
     ]
    }
   ],
   "source": [
    "# create trajectories with shorter step lengths\n",
    "\n",
    "num_short = 500\n",
    "x_short_nps = []\n",
    "y_short_nps = []\n",
    "short_trjs = {ind: traja.generate(n=1000, random=True,step_length= 2, seed=ind) for ind in range(num_short)}\n",
    "for trj in short_trjs:\n",
    "    derivs = traja.get_derivatives(short_trjs[trj])\n",
    "    ang = traja.calc_angle(short_trjs[trj])\n",
    "    short_trjs[trj] = short_trjs[trj].join(derivs).join(ang.rename('angles'))\n",
    "    short_trjs[trj].drop(['displacement_time', 'speed_times', 'acceleration_times'], inplace=True, axis=1)\n",
    "    # print(short_trjs[trj][short_trjs[trj].isnull().any(axis=1)])\n",
    "    \n",
    "    short_trjs[trj].to_numpy\n",
    "    x_short_nps.append(short_trjs[trj])\n",
    "    y_short_nps.append(0)\n",
    "    \n",
    "\n",
    "x_short_data = np.dstack(x_short_nps)\n",
    "print(x_short_data.shape)\n"
   ]
  },
  {
   "cell_type": "code",
   "execution_count": 51,
   "id": "250ea767",
   "metadata": {},
   "outputs": [
    {
     "name": "stdout",
     "output_type": "stream",
     "text": [
      "(1000, 7, 1000)\n",
      "(1000,)\n"
     ]
    }
   ],
   "source": [
    "# create trajectories with longer step lengths\n",
    "# data set now has shorter and longer step lengths\n",
    "\n",
    "num_long = 500\n",
    "x_long_nps = [x_short_data]\n",
    "long_trjs = {ind: traja.generate(n=1000, random=True,step_length= 5, seed=ind+num_short) for ind in range(num_long)}\n",
    "for trj in long_trjs:\n",
    "    derivs = traja.get_derivatives(long_trjs[trj])\n",
    "    ang = traja.calc_angle(long_trjs[trj])\n",
    "    long_trjs[trj] = long_trjs[trj].join(derivs).join(ang.rename('angles'))\n",
    "    long_trjs[trj].drop(['displacement_time', 'speed_times', 'acceleration_times'], inplace=True, axis=1)\n",
    "    long_trjs[trj].to_numpy\n",
    "    x_long_nps.append(long_trjs[trj])\n",
    "    y_short_nps.append(1)\n",
    "\n",
    "X = np.dstack(x_long_nps)\n",
    "X = np.transpose(X)\n",
    "Y = np.array(y_short_nps)\n",
    "print(X.shape)\n",
    "print(Y.shape)"
   ]
  },
  {
   "cell_type": "code",
   "execution_count": 52,
   "id": "4b99df7b",
   "metadata": {},
   "outputs": [
    {
     "name": "stdout",
     "output_type": "stream",
     "text": [
      "[792, 249, 788, 773, 359, 314, 668, 392, 380, 30, 667, 225, 84, 754, 806, 277, 192, 940, 8, 728, 161, 634, 440, 865, 999, 589, 716, 310, 114, 384, 943, 574, 700, 951, 621, 727, 765, 883, 886, 650, 299, 996, 173, 736, 307, 902, 48, 595, 919, 27, 435, 235, 115, 770, 408, 887, 193, 289, 22, 306, 263, 242, 915, 993, 350, 436, 465, 607, 172, 251, 484, 513, 579, 748, 178, 927, 649, 511, 585, 803, 856, 186, 664, 215, 268, 910, 555, 211, 669, 916, 315, 908, 808, 710, 858, 903, 400, 427, 65, 187, 413, 360, 57, 422, 451, 713, 295, 9, 194, 850, 553, 302, 54, 313, 949, 601, 470, 38, 697, 472, 663, 159, 446, 278, 31, 62, 590, 835, 776, 514, 429, 543, 230, 271, 24, 726, 775, 23, 406, 297, 195, 990, 981, 539, 829, 599, 972, 551, 32, 332, 283, 414, 220, 542, 181, 95, 586, 721, 206, 239, 370, 671, 603, 69, 740, 636, 399, 611, 357, 131, 722, 784, 382, 456, 339, 88, 926, 328, 816, 259, 250, 207, 355, 967, 505, 986, 769, 797, 738, 376, 593, 334, 988, 333, 594, 624, 950, 330, 183, 628, 467, 410, 796, 512, 237, 28, 801, 657, 962, 13, 762, 617, 17, 322, 526, 415, 868, 455, 145, 815, 366, 344, 864, 616, 349, 818, 698, 155, 282, 35, 128, 233, 681, 944, 442, 460, 998, 137, 885, 139, 836, 273, 94, 966, 231, 499, 872, 953, 227, 162, 898, 693, 573, 684, 924, 909, 217, 457, 123, 742, 497, 733, 506, 264, 68, 659, 994, 642, 261, 110, 789, 977, 468, 495, 592, 706, 416, 494, 166, 895, 992, 318, 347, 361, 732, 209, 577, 749, 267, 973, 141, 791, 73, 785, 751, 709, 447, 367, 533, 947, 807, 389, 142, 756, 578, 615, 670, 662, 443, 275, 904, 547, 954, 79, 180, 101, 758, 869, 154, 930, 746, 503, 300, 10, 719, 305, 90, 118, 724, 523, 308, 970, 554, 838, 127, 976, 76, 191, 565, 828, 426, 336, 900, 702, 97, 55, 74, 257, 317, 2, 348, 884, 474, 165, 85, 338, 755, 544, 190, 425, 234, 368, 50, 912, 253, 238, 372, 100, 321, 627, 245, 489, 184, 203, 958, 705, 525, 501, 105, 515, 896, 232, 658, 107, 167, 605, 175, 199, 36, 130, 534, 787, 678, 454, 92, 462, 119, 255, 223, 6, 516, 530, 358, 955, 108, 712, 613, 985, 620, 798, 146, 892, 729, 56, 12, 821, 287, 19, 840, 879, 558, 434, 419, 41, 696, 147, 171, 247, 140, 975, 493, 877, 303, 918, 103, 938, 568, 197, 198, 294, 652, 244, 980, 96, 629, 213, 82, 417, 875, 942, 284, 216, 630, 576, 783, 557, 260, 780, 168, 290, 874, 208, 212, 153, 256, 331, 948, 881, 16, 559, 961, 14, 91, 135, 102, 810, 545, 479, 743, 64, 541, 281, 964, 570, 485, 388, 695, 510, 739, 790, 363, 285, 846, 661, 488, 393, 752, 104, 744, 862]\n",
      "[89, 7, 437, 420, 196, 623, 120, 891, 326, 276, 832, 800, 802, 157, 375, 274, 867, 888, 813, 633, 490, 563, 639, 814, 67, 327, 152, 78, 486, 298, 214, 473, 844, 969, 160, 945, 170, 254, 404, 476, 49, 132, 134, 98, 381, 379, 396, 839, 504, 680, 449, 692, 562, 288, 176, 653, 492, 424, 40, 987, 817, 509, 164, 401, 441, 906, 252, 704, 851, 882, 643, 982, 827, 29, 466, 138, 549, 148, 569, 901, 655, 450, 622, 857, 129, 270, 852, 452, 487, 431, 340, 596, 520, 767, 309, 725, 266, 894, 564, 444, 831, 219, 536, 397, 177, 58, 677, 398, 403, 356, 939, 928, 453, 701, 711, 694, 893, 984, 963, 438, 581, 876, 83, 764, 654, 826, 221, 222, 849, 169, 960, 292, 968, 703, 989, 820, 687, 781, 116, 635, 778, 51, 461, 480, 641, 325, 291, 899, 978, 782, 730, 600, 952, 312, 606, 341, 210, 673, 66, 182, 407, 588, 343, 428, 923, 412, 860, 580, 409, 421, 124, 734, 99, 143, 757, 971, 747, 188, 371, 974, 794, 517, 679, 150, 248, 842, 750, 106, 766, 934, 854, 571, 475, 33, 771, 329, 905, 907, 602, 717, 598, 405, 812, 521, 320, 873, 688, 638, 833, 689, 469, 983, 111, 841, 535, 823, 500, 925, 34, 60, 179, 956, 691, 218, 45, 37, 560, 830, 156, 445, 44, 720, 848, 631, 430, 432, 378, 280, 863, 537, 587, 243, 342, 591, 483, 519, 43, 561, 959, 843, 745, 805, 265, 682, 354, 552, 241, 224, 777, 240, 538, 498, 583, 383, 811, 822, 448, 136, 786, 946, 228, 75, 665, 272, 666, 625, 957, 385, 685, 793, 870, 735, 21, 122, 529, 109, 279, 597, 63, 546, 604, 567, 269, 11, 346, 411, 690, 941, 584, 911, 708, 86, 804, 582, 853, 522, 760, 809, 889, 373, 345, 753, 847, 845, 936, 229, 352, 390, 540, 759, 965, 618, 837, 394, 458, 236, 133, 59, 174, 200, 362, 71, 52, 714, 296, 481, 715, 527, 151, 824, 819, 566, 258, 42, 575, 995, 614, 335, 768, 608, 632, 660, 337, 518, 507, 913, 610, 656, 18, 402, 723, 53, 528, 502, 351, 531, 72, 774, 316, 550, 77, 1, 637, 93, 931, 619, 920, 477, 386, 293, 20, 556, 741, 683, 707, 672, 731, 125, 189, 0, 87, 648, 626, 117, 226, 932, 158, 395, 144, 39, 921, 855, 113, 47, 369, 763, 676, 609, 418, 374, 737, 917, 922, 645, 548, 25, 612, 651, 4, 149, 246, 674, 834, 319, 491, 675, 304, 185, 15, 387, 463, 866, 644, 5, 524, 914, 929, 80, 3, 459, 311, 699, 286, 825, 201, 935, 377, 81, 46, 112, 937, 991, 70, 439, 779, 861, 478, 897, 204, 163, 353, 772, 508, 646, 878, 205, 880, 718, 997, 532, 471, 761, 464, 572, 482, 871, 433, 890, 496, 126, 933, 61, 121, 686, 365, 262, 795, 26, 423, 391, 859, 979, 640, 799, 324, 364, 301, 202, 647, 323]\n"
     ]
    }
   ],
   "source": [
    "# shuffle + split data set into training and testing set\n",
    "from sklearn.model_selection import train_test_split\n",
    "all_indices = list(range(num_short+num_long))\n",
    "train_ind, test_ind = train_test_split(all_indices, test_size=0.5)\n",
    "print(train_ind)\n",
    "print(test_ind)\n",
    "\n",
    "X_train = X[train_ind, :, 2:]\n",
    "X_test = X[test_ind, :, 2:]\n",
    "Y_train = Y[train_ind]\n",
    "Y_test = Y[test_ind]\n",
    "\n",
    "\n"
   ]
  },
  {
   "cell_type": "code",
   "execution_count": 53,
   "id": "b36f724a",
   "metadata": {},
   "outputs": [
    {
     "name": "stdout",
     "output_type": "stream",
     "text": [
      "{'fit_time': array([9.65801597, 9.78967214, 9.66700196, 8.92758417]), 'score_time': array([2.80781603, 2.94097781, 2.82999706, 2.50501704]), 'estimator': [Pipeline(steps=[('concatenate', ColumnConcatenator()),\n",
      "                ('classify', TimeSeriesForestClassifier(n_estimators=10))]), Pipeline(steps=[('concatenate', ColumnConcatenator()),\n",
      "                ('classify', TimeSeriesForestClassifier(n_estimators=10))]), Pipeline(steps=[('concatenate', ColumnConcatenator()),\n",
      "                ('classify', TimeSeriesForestClassifier(n_estimators=10))]), Pipeline(steps=[('concatenate', ColumnConcatenator()),\n",
      "                ('classify', TimeSeriesForestClassifier(n_estimators=10))])], 'test_score': array([1., 1., 1., 1.])}\n"
     ]
    }
   ],
   "source": [
    "# Try time-series concatenation\n",
    "from sktime.transformations.panel.compose import ColumnConcatenator\n",
    "from sklearn.pipeline import Pipeline\n",
    "from sktime.classification.interval_based import TimeSeriesForestClassifier\n",
    "\n",
    "\n",
    "steps = [\n",
    "    (\"concatenate\", ColumnConcatenator()),\n",
    "    (\"classify\", TimeSeriesForestClassifier(n_estimators=10)),\n",
    "]\n",
    "clf = Pipeline(steps)\n",
    "\n",
    "from sklearn.model_selection import StratifiedKFold\n",
    "from sklearn.model_selection import cross_validate\n",
    "\n",
    "k_fold = StratifiedKFold(n_splits=4, shuffle=True, random_state=0)\n",
    "\n",
    "output = cross_validate(clf, X[:,:,2:], Y, cv=k_fold, scoring = 'roc_auc', return_estimator =True)\n",
    "print(output)"
   ]
  },
  {
   "cell_type": "code",
   "execution_count": 57,
   "id": "aff638c0",
   "metadata": {},
   "outputs": [
    {
     "ename": "TypeError",
     "evalue": "transform() missing 1 required positional argument: 'X'",
     "output_type": "error",
     "traceback": [
      "\u001b[0;31m---------------------------------------------------------------------------\u001b[0m",
      "\u001b[0;31mTypeError\u001b[0m                                 Traceback (most recent call last)",
      "\u001b[0;32m<ipython-input-57-2a9623f3155b>\u001b[0m in \u001b[0;36m<module>\u001b[0;34m\u001b[0m\n\u001b[0;32m----> 1\u001b[0;31m \u001b[0mColumnConcatenator\u001b[0m\u001b[0;34m.\u001b[0m\u001b[0mtransform\u001b[0m\u001b[0;34m(\u001b[0m\u001b[0mX\u001b[0m\u001b[0;34m[\u001b[0m\u001b[0;34m:\u001b[0m\u001b[0;34m,\u001b[0m\u001b[0;34m:\u001b[0m\u001b[0;34m,\u001b[0m\u001b[0;36m2\u001b[0m\u001b[0;34m:\u001b[0m\u001b[0;34m]\u001b[0m\u001b[0;34m)\u001b[0m\u001b[0;34m\u001b[0m\u001b[0;34m\u001b[0m\u001b[0m\n\u001b[0m",
      "\u001b[0;31mTypeError\u001b[0m: transform() missing 1 required positional argument: 'X'"
     ]
    }
   ],
   "source": [
    "ColumnConcatenator.transform(X[:,:,2:])"
   ]
  },
  {
   "cell_type": "code",
   "execution_count": 54,
   "id": "27f1f027",
   "metadata": {},
   "outputs": [
    {
     "name": "stdout",
     "output_type": "stream",
     "text": [
      "[0 0 0 0 0 1 0 1 0 0 1 1 1 0 0 0 1 1 1 1 0 1 1 1 0 0 0 0 0 0 0 0 1 1 0 1 0\n",
      " 0 0 0 0 0 0 0 0 0 0 1 1 1 0 1 1 0 0 1 0 0 0 1 1 1 0 0 0 1 0 1 1 1 1 1 1 0\n",
      " 0 0 1 0 1 1 1 0 1 1 0 0 1 0 0 0 0 1 1 1 0 1 0 1 1 0 1 0 1 0 0 0 1 0 0 0 1\n",
      " 1 0 1 1 1 1 1 1 0 1 1 0 1 1 1 0 0 1 0 1 0 1 1 1 1 1 1 0 1 1 0 0 0 1 0 0 1\n",
      " 1 1 1 1 1 0 1 0 0 1 0 0 0 1 0 0 1 0 1 1 0 0 0 1 0 0 1 1 1 0 0 1 1 1 1 0 0\n",
      " 1 1 0 1 1 1 1 0 0 1 0 1 1 1 1 1 0 1 1 0 1 1 1 1 1 0 1 0 1 1 1 1 1 0 0 0 1\n",
      " 1 0 0 0 1 1 0 0 0 1 1 1 0 0 0 0 1 1 1 0 0 1 0 1 0 1 1 1 1 1 0 1 0 1 0 0 1\n",
      " 0 1 0 1 0 1 1 0 0 1 1 0 0 1 0 1 1 1 0 1 1 1 1 0 0 1 0 0 1 0 1 1 1 0 0 0 0\n",
      " 1 1 1 1 1 0 1 1 1 1 1 1 1 0 0 1 1 1 1 0 0 0 1 1 1 1 1 0 0 0 0 0 0 0 0 0 0\n",
      " 1 0 0 1 1 0 1 1 1 0 0 1 1 1 0 1 1 1 1 0 1 1 1 1 1 0 0 1 0 1 1 0 1 0 1 0 1\n",
      " 0 0 1 0 1 1 1 0 0 0 0 1 1 1 1 1 1 0 0 0 0 1 1 0 0 1 0 0 0 0 1 1 0 0 0 1 1\n",
      " 1 0 0 1 1 1 1 1 0 1 1 0 0 0 1 1 0 0 1 0 0 0 0 0 1 1 0 1 1 1 0 0 0 0 1 0 1\n",
      " 0 1 0 0 0 0 1 1 0 0 1 1 0 1 0 0 0 1 1 1 1 0 1 1 1 1 0 1 0 1 0 1 0 1 0 0 1\n",
      " 0 0 1 0 0 1 0 0 0 1 1 1 1 0 0 0 0 1 0]\n",
      "[0 0 0 0 0 1 0 1 0 0 1 1 1 0 0 0 1 1 1 1 0 1 1 1 0 0 0 0 0 0 0 0 1 1 0 1 0\n",
      " 0 0 0 0 0 0 0 0 0 0 1 1 1 0 1 1 0 0 1 0 0 0 1 1 1 0 0 0 1 0 1 1 1 1 1 1 0\n",
      " 0 0 1 0 1 1 1 0 1 1 0 0 1 0 0 0 0 1 1 1 0 1 0 1 1 0 1 0 1 0 0 0 1 0 0 0 1\n",
      " 1 0 1 1 1 1 1 1 0 1 1 0 1 1 1 0 0 1 0 1 0 1 1 1 1 1 1 0 1 1 0 0 0 1 0 0 1\n",
      " 1 1 1 1 1 0 1 0 0 1 0 0 0 1 0 0 1 0 1 1 0 0 0 1 0 0 1 1 1 0 0 1 1 1 1 0 0\n",
      " 1 1 0 1 1 1 1 0 0 1 0 1 1 1 1 1 0 1 1 0 1 1 1 1 1 0 1 0 1 1 1 1 1 0 0 0 1\n",
      " 1 0 0 0 1 1 0 0 0 1 1 1 0 0 0 0 1 1 1 0 0 1 0 1 0 1 1 1 1 1 0 1 0 1 0 0 1\n",
      " 0 1 0 1 0 1 1 0 0 1 1 0 0 1 0 1 1 1 0 1 1 1 1 0 0 1 0 0 1 0 1 1 1 0 0 0 0\n",
      " 1 1 1 1 1 0 1 1 1 1 1 1 1 0 0 1 1 1 1 0 0 0 1 1 1 1 1 0 0 0 0 0 0 0 0 0 0\n",
      " 1 0 0 1 1 0 1 1 1 0 0 1 1 1 0 1 1 1 1 0 1 1 1 1 1 0 0 1 0 1 1 0 1 0 1 0 1\n",
      " 0 0 1 0 1 1 1 0 0 0 0 1 1 1 1 1 1 0 0 0 0 1 1 0 0 1 0 0 0 0 1 1 0 0 0 1 1\n",
      " 1 0 0 1 1 1 1 1 0 1 1 0 0 0 1 1 0 0 1 0 0 0 0 0 1 1 0 1 1 1 0 0 0 0 1 0 1\n",
      " 0 1 0 0 0 0 1 1 0 0 1 1 0 1 0 0 0 1 1 1 1 0 1 1 1 1 0 1 0 1 0 1 0 1 0 0 1\n",
      " 0 0 1 0 0 1 0 0 0 1 1 1 1 0 0 0 0 1 0]\n",
      "1.0\n"
     ]
    }
   ],
   "source": [
    "clf.fit(X_train, Y_train)\n",
    "score = clf.score(X_test, Y_test)\n",
    "Y_pred = clf.predict(X_test)\n",
    "print(Y_pred)\n",
    "print(Y_test)\n",
    "print(score)"
   ]
  },
  {
   "cell_type": "code",
   "execution_count": 170,
   "id": "b64dd9b6",
   "metadata": {},
   "outputs": [
    {
     "data": {
      "text/plain": [
       "0.375"
      ]
     },
     "execution_count": 170,
     "metadata": {},
     "output_type": "execute_result"
    }
   ],
   "source": [
    "# Use rocket Classifier\n",
    "from sktime.classification.kernel_based import RocketClassifier\n",
    "from sklearn.metrics import accuracy_score\n",
    "\n",
    "rocket = RocketClassifier()\n",
    "rocket.fit(X_train, Y_train)\n",
    "Y_pred = rocket.predict(X_test)\n",
    "accuracy_score(Y_test, Y_pred)\n",
    "\n"
   ]
  },
  {
   "cell_type": "code",
   "execution_count": 155,
   "id": "6c4c4929",
   "metadata": {},
   "outputs": [
    {
     "ename": "KeyboardInterrupt",
     "evalue": "",
     "output_type": "error",
     "traceback": [
      "\u001b[0;31m---------------------------------------------------------------------------\u001b[0m",
      "\u001b[0;31mKeyboardInterrupt\u001b[0m                         Traceback (most recent call last)",
      "\u001b[0;32m<ipython-input-155-e68fea72e581>\u001b[0m in \u001b[0;36m<module>\u001b[0;34m\u001b[0m\n\u001b[1;32m      8\u001b[0m     ]\n\u001b[1;32m      9\u001b[0m )\n\u001b[0;32m---> 10\u001b[0;31m \u001b[0mclf\u001b[0m\u001b[0;34m.\u001b[0m\u001b[0mfit\u001b[0m\u001b[0;34m(\u001b[0m\u001b[0mX_train\u001b[0m\u001b[0;34m,\u001b[0m \u001b[0mY_train\u001b[0m\u001b[0;34m)\u001b[0m\u001b[0;34m\u001b[0m\u001b[0;34m\u001b[0m\u001b[0m\n\u001b[0m\u001b[1;32m     11\u001b[0m \u001b[0mclf\u001b[0m\u001b[0;34m.\u001b[0m\u001b[0mscore\u001b[0m\u001b[0;34m(\u001b[0m\u001b[0mX_test\u001b[0m\u001b[0;34m,\u001b[0m \u001b[0mY_test\u001b[0m\u001b[0;34m)\u001b[0m\u001b[0;34m\u001b[0m\u001b[0;34m\u001b[0m\u001b[0m\n",
      "\u001b[0;32m~/opt/anaconda3/envs/env_pytorch/lib/python3.6/site-packages/sktime/classification/compose/_column_ensemble.py\u001b[0m in \u001b[0;36mfit\u001b[0;34m(self, X, y)\u001b[0m\n\u001b[1;32m    149\u001b[0m         \u001b[0;32mfor\u001b[0m \u001b[0mname\u001b[0m\u001b[0;34m,\u001b[0m \u001b[0mestimator\u001b[0m\u001b[0;34m,\u001b[0m \u001b[0mcolumn\u001b[0m \u001b[0;32min\u001b[0m \u001b[0mself\u001b[0m\u001b[0;34m.\u001b[0m\u001b[0m_iter\u001b[0m\u001b[0;34m(\u001b[0m\u001b[0mreplace_strings\u001b[0m\u001b[0;34m=\u001b[0m\u001b[0;32mTrue\u001b[0m\u001b[0;34m)\u001b[0m\u001b[0;34m:\u001b[0m\u001b[0;34m\u001b[0m\u001b[0;34m\u001b[0m\u001b[0m\n\u001b[1;32m    150\u001b[0m             \u001b[0mestimator\u001b[0m \u001b[0;34m=\u001b[0m \u001b[0mclone\u001b[0m\u001b[0;34m(\u001b[0m\u001b[0mestimator\u001b[0m\u001b[0;34m)\u001b[0m\u001b[0;34m\u001b[0m\u001b[0;34m\u001b[0m\u001b[0m\n\u001b[0;32m--> 151\u001b[0;31m             \u001b[0mestimator\u001b[0m\u001b[0;34m.\u001b[0m\u001b[0mfit\u001b[0m\u001b[0;34m(\u001b[0m\u001b[0m_get_column\u001b[0m\u001b[0;34m(\u001b[0m\u001b[0mX\u001b[0m\u001b[0;34m,\u001b[0m \u001b[0mcolumn\u001b[0m\u001b[0;34m)\u001b[0m\u001b[0;34m,\u001b[0m \u001b[0mtransformed_y\u001b[0m\u001b[0;34m)\u001b[0m\u001b[0;34m\u001b[0m\u001b[0;34m\u001b[0m\u001b[0m\n\u001b[0m\u001b[1;32m    152\u001b[0m             \u001b[0mestimators_\u001b[0m\u001b[0;34m.\u001b[0m\u001b[0mappend\u001b[0m\u001b[0;34m(\u001b[0m\u001b[0;34m(\u001b[0m\u001b[0mname\u001b[0m\u001b[0;34m,\u001b[0m \u001b[0mestimator\u001b[0m\u001b[0;34m,\u001b[0m \u001b[0mcolumn\u001b[0m\u001b[0;34m)\u001b[0m\u001b[0;34m)\u001b[0m\u001b[0;34m\u001b[0m\u001b[0;34m\u001b[0m\u001b[0m\n\u001b[1;32m    153\u001b[0m \u001b[0;34m\u001b[0m\u001b[0m\n",
      "\u001b[0;32m~/opt/anaconda3/envs/env_pytorch/lib/python3.6/site-packages/sktime/classification/base.py\u001b[0m in \u001b[0;36mfit\u001b[0;34m(self, X, y)\u001b[0m\n\u001b[1;32m    106\u001b[0m             \u001b[0mself\u001b[0m\u001b[0;34m.\u001b[0m\u001b[0m_class_dictionary\u001b[0m\u001b[0;34m[\u001b[0m\u001b[0mclassVal\u001b[0m\u001b[0;34m]\u001b[0m \u001b[0;34m=\u001b[0m \u001b[0mindex\u001b[0m\u001b[0;34m\u001b[0m\u001b[0;34m\u001b[0m\u001b[0m\n\u001b[1;32m    107\u001b[0m \u001b[0;34m\u001b[0m\u001b[0m\n\u001b[0;32m--> 108\u001b[0;31m         \u001b[0mself\u001b[0m\u001b[0;34m.\u001b[0m\u001b[0m_fit\u001b[0m\u001b[0;34m(\u001b[0m\u001b[0mX\u001b[0m\u001b[0;34m,\u001b[0m \u001b[0my\u001b[0m\u001b[0;34m)\u001b[0m\u001b[0;34m\u001b[0m\u001b[0;34m\u001b[0m\u001b[0m\n\u001b[0m\u001b[1;32m    109\u001b[0m \u001b[0;34m\u001b[0m\u001b[0m\n\u001b[1;32m    110\u001b[0m         \u001b[0;31m# this should happen last\u001b[0m\u001b[0;34m\u001b[0m\u001b[0;34m\u001b[0m\u001b[0;34m\u001b[0m\u001b[0m\n",
      "\u001b[0;32m~/opt/anaconda3/envs/env_pytorch/lib/python3.6/site-packages/sktime/classification/dictionary_based/_boss.py\u001b[0m in \u001b[0;36m_fit\u001b[0;34m(self, X, y)\u001b[0m\n\u001b[1;32m    202\u001b[0m                     \u001b[0mrandom_state\u001b[0m\u001b[0;34m=\u001b[0m\u001b[0mself\u001b[0m\u001b[0;34m.\u001b[0m\u001b[0mrandom_state\u001b[0m\u001b[0;34m,\u001b[0m\u001b[0;34m\u001b[0m\u001b[0;34m\u001b[0m\u001b[0m\n\u001b[1;32m    203\u001b[0m                 )\n\u001b[0;32m--> 204\u001b[0;31m                 \u001b[0mboss\u001b[0m\u001b[0;34m.\u001b[0m\u001b[0mfit\u001b[0m\u001b[0;34m(\u001b[0m\u001b[0mX\u001b[0m\u001b[0;34m,\u001b[0m \u001b[0my\u001b[0m\u001b[0;34m)\u001b[0m\u001b[0;34m\u001b[0m\u001b[0;34m\u001b[0m\u001b[0m\n\u001b[0m\u001b[1;32m    205\u001b[0m \u001b[0;34m\u001b[0m\u001b[0m\n\u001b[1;32m    206\u001b[0m                 \u001b[0mbest_classifier_for_win_size\u001b[0m \u001b[0;34m=\u001b[0m \u001b[0mboss\u001b[0m\u001b[0;34m\u001b[0m\u001b[0;34m\u001b[0m\u001b[0m\n",
      "\u001b[0;32m~/opt/anaconda3/envs/env_pytorch/lib/python3.6/site-packages/sktime/classification/base.py\u001b[0m in \u001b[0;36mfit\u001b[0;34m(self, X, y)\u001b[0m\n\u001b[1;32m    106\u001b[0m             \u001b[0mself\u001b[0m\u001b[0;34m.\u001b[0m\u001b[0m_class_dictionary\u001b[0m\u001b[0;34m[\u001b[0m\u001b[0mclassVal\u001b[0m\u001b[0;34m]\u001b[0m \u001b[0;34m=\u001b[0m \u001b[0mindex\u001b[0m\u001b[0;34m\u001b[0m\u001b[0;34m\u001b[0m\u001b[0m\n\u001b[1;32m    107\u001b[0m \u001b[0;34m\u001b[0m\u001b[0m\n\u001b[0;32m--> 108\u001b[0;31m         \u001b[0mself\u001b[0m\u001b[0;34m.\u001b[0m\u001b[0m_fit\u001b[0m\u001b[0;34m(\u001b[0m\u001b[0mX\u001b[0m\u001b[0;34m,\u001b[0m \u001b[0my\u001b[0m\u001b[0;34m)\u001b[0m\u001b[0;34m\u001b[0m\u001b[0;34m\u001b[0m\u001b[0m\n\u001b[0m\u001b[1;32m    109\u001b[0m \u001b[0;34m\u001b[0m\u001b[0m\n\u001b[1;32m    110\u001b[0m         \u001b[0;31m# this should happen last\u001b[0m\u001b[0;34m\u001b[0m\u001b[0;34m\u001b[0m\u001b[0;34m\u001b[0m\u001b[0m\n",
      "\u001b[0;32m~/opt/anaconda3/envs/env_pytorch/lib/python3.6/site-packages/sktime/classification/dictionary_based/_boss.py\u001b[0m in \u001b[0;36m_fit\u001b[0;34m(self, X, y)\u001b[0m\n\u001b[1;32m    533\u001b[0m         )\n\u001b[1;32m    534\u001b[0m \u001b[0;34m\u001b[0m\u001b[0m\n\u001b[0;32m--> 535\u001b[0;31m         \u001b[0msfa\u001b[0m \u001b[0;34m=\u001b[0m \u001b[0mself\u001b[0m\u001b[0;34m.\u001b[0m\u001b[0m_transformer\u001b[0m\u001b[0;34m.\u001b[0m\u001b[0mfit_transform\u001b[0m\u001b[0;34m(\u001b[0m\u001b[0mX\u001b[0m\u001b[0;34m)\u001b[0m\u001b[0;34m\u001b[0m\u001b[0;34m\u001b[0m\u001b[0m\n\u001b[0m\u001b[1;32m    536\u001b[0m         \u001b[0mself\u001b[0m\u001b[0;34m.\u001b[0m\u001b[0m_transformed_data\u001b[0m \u001b[0;34m=\u001b[0m \u001b[0msfa\u001b[0m\u001b[0;34m[\u001b[0m\u001b[0;36m0\u001b[0m\u001b[0;34m]\u001b[0m\u001b[0;34m\u001b[0m\u001b[0;34m\u001b[0m\u001b[0m\n\u001b[1;32m    537\u001b[0m         \u001b[0mself\u001b[0m\u001b[0;34m.\u001b[0m\u001b[0m_class_vals\u001b[0m \u001b[0;34m=\u001b[0m \u001b[0my\u001b[0m\u001b[0;34m\u001b[0m\u001b[0;34m\u001b[0m\u001b[0m\n",
      "\u001b[0;32m~/opt/anaconda3/envs/env_pytorch/lib/python3.6/site-packages/sktime/transformations/base.py\u001b[0m in \u001b[0;36mfit_transform\u001b[0;34m(self, X, y, Z)\u001b[0m\n\u001b[1;32m    559\u001b[0m         \u001b[0;31m# Non-optimized default implementation; override when a better\u001b[0m\u001b[0;34m\u001b[0m\u001b[0;34m\u001b[0m\u001b[0;34m\u001b[0m\u001b[0m\n\u001b[1;32m    560\u001b[0m         \u001b[0;31m# method is possible for a given algorithm.\u001b[0m\u001b[0;34m\u001b[0m\u001b[0;34m\u001b[0m\u001b[0;34m\u001b[0m\u001b[0m\n\u001b[0;32m--> 561\u001b[0;31m         \u001b[0;32mreturn\u001b[0m \u001b[0mself\u001b[0m\u001b[0;34m.\u001b[0m\u001b[0mfit\u001b[0m\u001b[0;34m(\u001b[0m\u001b[0mX\u001b[0m\u001b[0;34m,\u001b[0m \u001b[0my\u001b[0m\u001b[0;34m)\u001b[0m\u001b[0;34m.\u001b[0m\u001b[0mtransform\u001b[0m\u001b[0;34m(\u001b[0m\u001b[0mX\u001b[0m\u001b[0;34m,\u001b[0m \u001b[0my\u001b[0m\u001b[0;34m)\u001b[0m\u001b[0;34m\u001b[0m\u001b[0;34m\u001b[0m\u001b[0m\n\u001b[0m\u001b[1;32m    562\u001b[0m \u001b[0;34m\u001b[0m\u001b[0m\n\u001b[1;32m    563\u001b[0m     \u001b[0;31m# def inverse_transform(self, Z, X=None):\u001b[0m\u001b[0;34m\u001b[0m\u001b[0;34m\u001b[0m\u001b[0;34m\u001b[0m\u001b[0m\n",
      "\u001b[0;32m~/opt/anaconda3/envs/env_pytorch/lib/python3.6/site-packages/sktime/transformations/panel/dictionary_based/_sfa.py\u001b[0m in \u001b[0;36mtransform\u001b[0;34m(self, X, y)\u001b[0m\n\u001b[1;32m    256\u001b[0m                 \u001b[0msupplied_dft\u001b[0m\u001b[0;34m=\u001b[0m\u001b[0mself\u001b[0m\u001b[0;34m.\u001b[0m\u001b[0mbinning_dft\u001b[0m\u001b[0;34m[\u001b[0m\u001b[0mi\u001b[0m\u001b[0;34m]\u001b[0m \u001b[0;32mif\u001b[0m \u001b[0mself\u001b[0m\u001b[0;34m.\u001b[0m\u001b[0mkeep_binning_dft\u001b[0m \u001b[0;32melse\u001b[0m \u001b[0;32mNone\u001b[0m\u001b[0;34m,\u001b[0m\u001b[0;34m\u001b[0m\u001b[0;34m\u001b[0m\u001b[0m\n\u001b[1;32m    257\u001b[0m             )\n\u001b[0;32m--> 258\u001b[0;31m             \u001b[0;32mfor\u001b[0m \u001b[0mi\u001b[0m \u001b[0;32min\u001b[0m \u001b[0mrange\u001b[0m\u001b[0;34m(\u001b[0m\u001b[0mX\u001b[0m\u001b[0;34m.\u001b[0m\u001b[0mshape\u001b[0m\u001b[0;34m[\u001b[0m\u001b[0;36m0\u001b[0m\u001b[0;34m]\u001b[0m\u001b[0;34m)\u001b[0m\u001b[0;34m\u001b[0m\u001b[0;34m\u001b[0m\u001b[0m\n\u001b[0m\u001b[1;32m    259\u001b[0m         )\n\u001b[1;32m    260\u001b[0m \u001b[0;34m\u001b[0m\u001b[0m\n",
      "\u001b[0;32m~/opt/anaconda3/envs/env_pytorch/lib/python3.6/site-packages/joblib/parallel.py\u001b[0m in \u001b[0;36m__call__\u001b[0;34m(self, iterable)\u001b[0m\n\u001b[1;32m   1044\u001b[0m                 \u001b[0mself\u001b[0m\u001b[0;34m.\u001b[0m\u001b[0m_iterating\u001b[0m \u001b[0;34m=\u001b[0m \u001b[0mself\u001b[0m\u001b[0;34m.\u001b[0m\u001b[0m_original_iterator\u001b[0m \u001b[0;32mis\u001b[0m \u001b[0;32mnot\u001b[0m \u001b[0;32mNone\u001b[0m\u001b[0;34m\u001b[0m\u001b[0;34m\u001b[0m\u001b[0m\n\u001b[1;32m   1045\u001b[0m \u001b[0;34m\u001b[0m\u001b[0m\n\u001b[0;32m-> 1046\u001b[0;31m             \u001b[0;32mwhile\u001b[0m \u001b[0mself\u001b[0m\u001b[0;34m.\u001b[0m\u001b[0mdispatch_one_batch\u001b[0m\u001b[0;34m(\u001b[0m\u001b[0miterator\u001b[0m\u001b[0;34m)\u001b[0m\u001b[0;34m:\u001b[0m\u001b[0;34m\u001b[0m\u001b[0;34m\u001b[0m\u001b[0m\n\u001b[0m\u001b[1;32m   1047\u001b[0m                 \u001b[0;32mpass\u001b[0m\u001b[0;34m\u001b[0m\u001b[0;34m\u001b[0m\u001b[0m\n\u001b[1;32m   1048\u001b[0m \u001b[0;34m\u001b[0m\u001b[0m\n",
      "\u001b[0;32m~/opt/anaconda3/envs/env_pytorch/lib/python3.6/site-packages/joblib/parallel.py\u001b[0m in \u001b[0;36mdispatch_one_batch\u001b[0;34m(self, iterator)\u001b[0m\n\u001b[1;32m    820\u001b[0m             \u001b[0;31m# tasks from the origal iterator.\u001b[0m\u001b[0;34m\u001b[0m\u001b[0;34m\u001b[0m\u001b[0;34m\u001b[0m\u001b[0m\n\u001b[1;32m    821\u001b[0m             \u001b[0;32mtry\u001b[0m\u001b[0;34m:\u001b[0m\u001b[0;34m\u001b[0m\u001b[0;34m\u001b[0m\u001b[0m\n\u001b[0;32m--> 822\u001b[0;31m                 \u001b[0mtasks\u001b[0m \u001b[0;34m=\u001b[0m \u001b[0mself\u001b[0m\u001b[0;34m.\u001b[0m\u001b[0m_ready_batches\u001b[0m\u001b[0;34m.\u001b[0m\u001b[0mget\u001b[0m\u001b[0;34m(\u001b[0m\u001b[0mblock\u001b[0m\u001b[0;34m=\u001b[0m\u001b[0;32mFalse\u001b[0m\u001b[0;34m)\u001b[0m\u001b[0;34m\u001b[0m\u001b[0;34m\u001b[0m\u001b[0m\n\u001b[0m\u001b[1;32m    823\u001b[0m             \u001b[0;32mexcept\u001b[0m \u001b[0mqueue\u001b[0m\u001b[0;34m.\u001b[0m\u001b[0mEmpty\u001b[0m\u001b[0;34m:\u001b[0m\u001b[0;34m\u001b[0m\u001b[0;34m\u001b[0m\u001b[0m\n\u001b[1;32m    824\u001b[0m                 \u001b[0;31m# slice the iterator n_jobs * batchsize items at a time. If the\u001b[0m\u001b[0;34m\u001b[0m\u001b[0;34m\u001b[0m\u001b[0;34m\u001b[0m\u001b[0m\n",
      "\u001b[0;32m~/opt/anaconda3/envs/env_pytorch/lib/python3.6/queue.py\u001b[0m in \u001b[0;36mget\u001b[0;34m(self, block, timeout)\u001b[0m\n\u001b[1;32m    156\u001b[0m         in that case).\n\u001b[1;32m    157\u001b[0m         '''\n\u001b[0;32m--> 158\u001b[0;31m         \u001b[0;32mwith\u001b[0m \u001b[0mself\u001b[0m\u001b[0;34m.\u001b[0m\u001b[0mnot_empty\u001b[0m\u001b[0;34m:\u001b[0m\u001b[0;34m\u001b[0m\u001b[0;34m\u001b[0m\u001b[0m\n\u001b[0m\u001b[1;32m    159\u001b[0m             \u001b[0;32mif\u001b[0m \u001b[0;32mnot\u001b[0m \u001b[0mblock\u001b[0m\u001b[0;34m:\u001b[0m\u001b[0;34m\u001b[0m\u001b[0;34m\u001b[0m\u001b[0m\n\u001b[1;32m    160\u001b[0m                 \u001b[0;32mif\u001b[0m \u001b[0;32mnot\u001b[0m \u001b[0mself\u001b[0m\u001b[0;34m.\u001b[0m\u001b[0m_qsize\u001b[0m\u001b[0;34m(\u001b[0m\u001b[0;34m)\u001b[0m\u001b[0;34m:\u001b[0m\u001b[0;34m\u001b[0m\u001b[0;34m\u001b[0m\u001b[0m\n",
      "\u001b[0;31mKeyboardInterrupt\u001b[0m: "
     ]
    }
   ],
   "source": [
    "# Try Column Ensembling\n",
    "from sktime.classification.compose import ColumnEnsembleClassifier\n",
    "from sktime.classification.dictionary_based import BOSSEnsemble\n",
    "clf = ColumnEnsembleClassifier(\n",
    "    estimators=[\n",
    "        (\"TSF0\", TimeSeriesForestClassifier(n_estimators=10), [0]),\n",
    "        (\"BOSSEnsemble3\", BOSSEnsemble(max_ensemble_size=5), [3]),\n",
    "    ]\n",
    ")\n",
    "clf.fit(X_train, Y_train)\n",
    "clf.score(X_test, Y_test)"
   ]
  },
  {
   "cell_type": "code",
   "execution_count": 126,
   "id": "e218b822",
   "metadata": {},
   "outputs": [
    {
     "name": "stdout",
     "output_type": "stream",
     "text": [
      "ln: /usr/local/opt/libomp/lib/libomp.dylib: File exists\r\n"
     ]
    }
   ],
   "source": [
    "!ln -s /Users/kellyfang/opt/anaconda3/envs/env_pytorch/lib/python3.6/site-packages/sktime/distances/elastic_cython.cpython-36m-darwin.so /usr/local/opt/libomp/lib/libomp.dylib"
   ]
  },
  {
   "cell_type": "code",
   "execution_count": 130,
   "id": "f2545bd4",
   "metadata": {},
   "outputs": [
    {
     "ename": "AttributeError",
     "evalue": "module 'sktime.clustering' has no attribute 'BaseClusterer'",
     "output_type": "error",
     "traceback": [
      "\u001b[0;31m---------------------------------------------------------------------------\u001b[0m",
      "\u001b[0;31mAttributeError\u001b[0m                            Traceback (most recent call last)",
      "\u001b[0;32m<ipython-input-130-a82e1ae15047>\u001b[0m in \u001b[0;36m<module>\u001b[0;34m\u001b[0m\n\u001b[1;32m      1\u001b[0m \u001b[0;31m# try time-series clustering\u001b[0m\u001b[0;34m\u001b[0m\u001b[0;34m\u001b[0m\u001b[0;34m\u001b[0m\u001b[0m\n\u001b[1;32m      2\u001b[0m \u001b[0;32mimport\u001b[0m \u001b[0msktime\u001b[0m\u001b[0;34m.\u001b[0m\u001b[0mclustering\u001b[0m \u001b[0;32mas\u001b[0m \u001b[0mcluster\u001b[0m\u001b[0;34m\u001b[0m\u001b[0;34m\u001b[0m\u001b[0m\n\u001b[0;32m----> 3\u001b[0;31m \u001b[0mb\u001b[0m \u001b[0;34m=\u001b[0m \u001b[0mcluster\u001b[0m\u001b[0;34m.\u001b[0m\u001b[0mBaseClusterer\u001b[0m\u001b[0;34m(\u001b[0m\u001b[0mn_cluster\u001b[0m\u001b[0;34m=\u001b[0m\u001b[0;36m2\u001b[0m\u001b[0;34m)\u001b[0m\u001b[0;34m\u001b[0m\u001b[0;34m\u001b[0m\u001b[0m\n\u001b[0m\u001b[1;32m      4\u001b[0m \u001b[0mb\u001b[0m\u001b[0;34m.\u001b[0m\u001b[0mpredict\u001b[0m\u001b[0;34m(\u001b[0m\u001b[0mX_train\u001b[0m\u001b[0;34m)\u001b[0m\u001b[0;34m\u001b[0m\u001b[0;34m\u001b[0m\u001b[0m\n",
      "\u001b[0;31mAttributeError\u001b[0m: module 'sktime.clustering' has no attribute 'BaseClusterer'"
     ]
    }
   ],
   "source": [
    "# try time-series clustering\n",
    "import sktime.clustering as cluster\n",
    "b = cluster.BaseClusterer(n_cluster=2)\n",
    "b.predict(X_train)"
   ]
  },
  {
   "cell_type": "code",
   "execution_count": 138,
   "id": "534e024f",
   "metadata": {},
   "outputs": [
    {
     "name": "stdout",
     "output_type": "stream",
     "text": [
      "\u001b[31mERROR: Could not find a version that satisfies the requirement sktime==0.11.4 (from versions: 0.1.dev0, 0.1.0, 0.2.0, 0.3.0, 0.4.0, 0.4.1, 0.4.2, 0.4.3, 0.5.0, 0.5.1, 0.5.2, 0.5.3, 0.6.0, 0.6.1, 0.7.0, 0.8.0, 0.8.1, 0.9.0)\u001b[0m\r\n",
      "\u001b[31mERROR: No matching distribution found for sktime==0.11.4\u001b[0m\r\n"
     ]
    }
   ],
   "source": []
  },
  {
   "cell_type": "code",
   "execution_count": null,
   "id": "30d9fae3",
   "metadata": {},
   "outputs": [],
   "source": []
  },
  {
   "cell_type": "code",
   "execution_count": null,
   "id": "7380a4fd",
   "metadata": {},
   "outputs": [],
   "source": []
  },
  {
   "cell_type": "code",
   "execution_count": null,
   "id": "83ffd9af",
   "metadata": {},
   "outputs": [],
   "source": []
  }
 ],
 "metadata": {
  "kernelspec": {
   "display_name": "Python 3",
   "language": "python",
   "name": "python3"
  },
  "language_info": {
   "codemirror_mode": {
    "name": "ipython",
    "version": 3
   },
   "file_extension": ".py",
   "mimetype": "text/x-python",
   "name": "python",
   "nbconvert_exporter": "python",
   "pygments_lexer": "ipython3",
   "version": "3.6.13"
  }
 },
 "nbformat": 4,
 "nbformat_minor": 5
}
